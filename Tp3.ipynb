{
 "cells": [
  {
   "cell_type": "markdown",
   "id": "91b2e6e6",
   "metadata": {},
   "source": [
    "### Import the required libraries:"
   ]
  },
  {
   "cell_type": "code",
   "execution_count": 28,
   "id": "0647bb2f",
   "metadata": {},
   "outputs": [],
   "source": [
    "import pandas as pd\n",
    "import numpy as np\n",
    "import tensorflow as tf\n",
    "from transformers import BertTokenizer, BertModel\n",
    "from sklearn.model_selection import train_test_split\n",
    "from sklearn.preprocessing import LabelEncoder\n",
    "import torch"
   ]
  },
  {
   "cell_type": "markdown",
   "id": "ad432cd6",
   "metadata": {},
   "source": [
    "### Load and preprocess the data:"
   ]
  },
  {
   "cell_type": "code",
   "execution_count": 29,
   "id": "73c4e44a",
   "metadata": {},
   "outputs": [
    {
     "data": {
      "text/html": [
       "<div>\n",
       "<style scoped>\n",
       "    .dataframe tbody tr th:only-of-type {\n",
       "        vertical-align: middle;\n",
       "    }\n",
       "\n",
       "    .dataframe tbody tr th {\n",
       "        vertical-align: top;\n",
       "    }\n",
       "\n",
       "    .dataframe thead th {\n",
       "        text-align: right;\n",
       "    }\n",
       "</style>\n",
       "<table border=\"1\" class=\"dataframe\">\n",
       "  <thead>\n",
       "    <tr style=\"text-align: right;\">\n",
       "      <th></th>\n",
       "      <th>text</th>\n",
       "      <th>author</th>\n",
       "    </tr>\n",
       "  </thead>\n",
       "  <tbody>\n",
       "    <tr>\n",
       "      <th>0</th>\n",
       "      <td>this proces however afforded me no means of as...</td>\n",
       "      <td>EAP</td>\n",
       "    </tr>\n",
       "    <tr>\n",
       "      <th>1</th>\n",
       "      <td>it never once occurred to me that the fumbling...</td>\n",
       "      <td>HPL</td>\n",
       "    </tr>\n",
       "    <tr>\n",
       "      <th>2</th>\n",
       "      <td>in his left hand was a gold snuff box from whi...</td>\n",
       "      <td>EAP</td>\n",
       "    </tr>\n",
       "    <tr>\n",
       "      <th>3</th>\n",
       "      <td>how lovely is spring as we looked from windsor...</td>\n",
       "      <td>MWS</td>\n",
       "    </tr>\n",
       "    <tr>\n",
       "      <th>4</th>\n",
       "      <td>finding nothing else not even gold the superin...</td>\n",
       "      <td>HPL</td>\n",
       "    </tr>\n",
       "  </tbody>\n",
       "</table>\n",
       "</div>"
      ],
      "text/plain": [
       "                                                text author\n",
       "0  this proces however afforded me no means of as...    EAP\n",
       "1  it never once occurred to me that the fumbling...    HPL\n",
       "2  in his left hand was a gold snuff box from whi...    EAP\n",
       "3  how lovely is spring as we looked from windsor...    MWS\n",
       "4  finding nothing else not even gold the superin...    HPL"
      ]
     },
     "execution_count": 29,
     "metadata": {},
     "output_type": "execute_result"
    }
   ],
   "source": [
    "df = pd.read_csv(\"out.csv\")  # Uncomment this line if you need to read the data from a CSV file\n",
    "df.drop(['Unnamed: 0','id'],axis=1,inplace=True)\n",
    "\n",
    "# Display the first 5 rows of the DataFrame\n",
    "df.head()"
   ]
  },
  {
   "cell_type": "code",
   "execution_count": 30,
   "id": "feb3672e",
   "metadata": {},
   "outputs": [
    {
     "data": {
      "text/plain": [
       "author\n",
       "EAP    5000\n",
       "HPL    5000\n",
       "MWS    5000\n",
       "Name: count, dtype: int64"
      ]
     },
     "execution_count": 30,
     "metadata": {},
     "output_type": "execute_result"
    }
   ],
   "source": [
    "# Group the DataFrame by author and select the first 100 rows for each author\n",
    "df_sampled = df.groupby('author').head(5000)\n",
    "\n",
    "# Concatenate the sampled DataFrames into a new DataFrame\n",
    "df_new = pd.concat([df_sampled], ignore_index=True)\n",
    "\n",
    "# Display the first 5 rows of the new DataFrame\n",
    "df_new.author.value_counts()\n"
   ]
  },
  {
   "cell_type": "code",
   "execution_count": 31,
   "id": "e6bda364",
   "metadata": {},
   "outputs": [
    {
     "name": "stdout",
     "output_type": "stream",
     "text": [
      "Author: EAP\n",
      "                                                text author\n",
      "0  this proces however afforded me no means of as...    EAP\n",
      "2  in his left hand was a gold snuff box from whi...    EAP\n",
      "6  the astronomer perhaps at this point took refu...    EAP\n",
      "7         the surcingle hung in ribands from my body    EAP\n",
      "8  i knew that you could not say to yourself ster...    EAP\n",
      "Author: HPL\n",
      "                                                 text author\n",
      "1   it never once occurred to me that the fumbling...    HPL\n",
      "4   finding nothing else not even gold the superin...    HPL\n",
      "12  herbert west needed fresh bodies because his l...    HPL\n",
      "13  the farm like grounds extended back very deepl...    HPL\n",
      "19  his facial aspect to was remarkable for its ma...    HPL\n",
      "Author: MWS\n",
      "                                                 text author\n",
      "3   how lovely is spring as we looked from windsor...    MWS\n",
      "5   a youth passed in solitude my best years spent...    MWS\n",
      "9   i confess that neither the structure of langua...    MWS\n",
      "10  he shal find that i can feel my injuries he sh...    MWS\n",
      "15  he had escaped me and i must commence a destru...    MWS\n"
     ]
    }
   ],
   "source": [
    "# Group the DataFrame by author\n",
    "grouped_df = df.groupby('author')\n",
    "\n",
    "# Display the first 5 rows of each group\n",
    "for author, group_df in grouped_df:\n",
    "    print(f\"Author: {author}\")\n",
    "    print(group_df.head())"
   ]
  },
  {
   "cell_type": "markdown",
   "id": "f4fbdca3",
   "metadata": {},
   "source": [
    "### Tokenize the text:"
   ]
  },
  {
   "cell_type": "code",
   "execution_count": 32,
   "id": "fc46dde0",
   "metadata": {},
   "outputs": [],
   "source": [
    "# Encode the author labels\n",
    "encoder = LabelEncoder()\n",
    "df_new['author_encoded'] = encoder.fit_transform(df_new['author'])\n",
    "\n",
    "# Split the data into training and testing sets\n",
    "train_df, test_df = train_test_split(df_new, test_size=0.2, random_state=42)\n",
    "\n",
    "# Tokenize the text data\n",
    "tokenizer = BertTokenizer.from_pretrained('bert-base-uncased')\n",
    "train_encodings = tokenizer(train_df['text'].tolist(), truncation=True, padding=True, max_length=128)\n",
    "test_encodings = tokenizer(test_df['text'].tolist(), truncation=True, padding=True, max_length=128)"
   ]
  },
  {
   "cell_type": "code",
   "execution_count": 33,
   "id": "1a4721fe",
   "metadata": {},
   "outputs": [],
   "source": [
    "from torch.utils.data import TensorDataset\n",
    "from torch.utils.data import DataLoader\n",
    "\n",
    "# Convert train and test encodings to PyTorch tensors\n",
    "train_inputs = torch.tensor(train_encodings.input_ids)\n",
    "train_masks = torch.tensor(train_encodings.attention_mask)\n",
    "train_labels = torch.tensor(train_df['author_encoded'].tolist())\n",
    "\n",
    "test_inputs = torch.tensor(test_encodings.input_ids)\n",
    "test_masks = torch.tensor(test_encodings.attention_mask)\n",
    "test_labels = torch.tensor(test_df['author_encoded'].tolist())\n",
    "\n",
    "# Create TensorDatasets\n",
    "train_dataset = TensorDataset(train_inputs, train_masks, train_labels)\n",
    "test_dataset = TensorDataset(test_inputs, test_masks, test_labels)\n",
    "\n",
    "# Create a DataLoader with the dataset\n",
    "batch_size = 32\n",
    "shuffle = True\n",
    "num_workers = 4  # Number of processes to use for data loading\n",
    "\n",
    "# Use PyTorch DataLoader to load data\n",
    "train_loader = DataLoader(train_dataset, batch_size=batch_size, shuffle=shuffle, num_workers=num_workers)\n",
    "test_loader = DataLoader(test_dataset, batch_size=batch_size, shuffle=shuffle, num_workers=num_workers)\n"
   ]
  },
  {
   "cell_type": "code",
   "execution_count": 39,
   "id": "6028b610",
   "metadata": {},
   "outputs": [],
   "source": [
    "import torch\n",
    "import torch.nn as nn\n",
    "import torch.nn.functional as F\n",
    "\n",
    "class TextCNN(nn.Module):\n",
    "    def __init__(self, vocab_size, embedding_dim, num_filters, filter_sizes, num_classes, dropout_prob=0.5):\n",
    "        super(TextCNN, self).__init__()\n",
    "        self.embedding = nn.Embedding(vocab_size, embedding_dim)\n",
    "        self.convs = nn.ModuleList([\n",
    "            nn.Conv2d(1, num_filters, (fs, embedding_dim)) for fs in filter_sizes\n",
    "        ])\n",
    "        self.dropout = nn.Dropout(dropout_prob)\n",
    "        self.fc = nn.Linear(num_filters * len(filter_sizes), num_classes)\n",
    "\n",
    "    def forward(self, x):\n",
    "        embedded = self.embedding(x)  # shape: (batch_size, seq_length, embedding_dim)\n",
    "        embedded = embedded.unsqueeze(1)  # shape: (batch_size, 1, seq_length, embedding_dim)\n",
    "        conved = [F.relu(conv(embedded)).squeeze(3) for conv in self.convs]  # shape: [(batch_size, num_filters, seq_length - filter_sizes[n] + 1)]\n",
    "        pooled = [F.max_pool1d(conv, conv.shape[2]).squeeze(2) for conv in conved]  # shape: [(batch_size, num_filters)]\n",
    "        cat = torch.cat(pooled, dim=1)  # shape: (batch_size, num_filters * len(filter_sizes))\n",
    "        dropped = self.dropout(cat)\n",
    "        logits = self.fc(dropped)  # shape: (batch_size, num_classes)\n",
    "        return logits\n"
   ]
  },
  {
   "cell_type": "code",
   "execution_count": 41,
   "id": "67585438",
   "metadata": {},
   "outputs": [],
   "source": [
    "# Define your data loaders\n",
    "train_loader = DataLoader(train_dataset, batch_size=batch_size, shuffle=True)\n",
    "test_loader = DataLoader(test_dataset, batch_size=batch_size)\n",
    "\n",
    "# Define your model\n",
    "vocab_size = len(tokenizer)  # Adjust based on your tokenizer\n",
    "embedding_dim = 100  # Adjust based on your choice\n",
    "num_filters = 128  # Number of filters in each convolutional layer\n",
    "filter_sizes = [3, 4, 5]  # Filter sizes for convolutional layers\n",
    "num_classes = len(label_encoder.classes_)  # Number of classes in your classification task\n",
    "\n",
    "model = TextCNN(vocab_size, embedding_dim, num_filters, filter_sizes, num_classes)\n",
    "\n",
    "# Define loss function and optimizer\n",
    "criterion = nn.CrossEntropyLoss()\n",
    "optimizer = torch.optim.Adam(model.parameters(), lr=0.001)\n",
    "\n",
    "\n"
   ]
  },
  {
   "cell_type": "code",
   "execution_count": 42,
   "id": "e8a9b114",
   "metadata": {},
   "outputs": [
    {
     "name": "stdout",
     "output_type": "stream",
     "text": [
      "Epoch 1/10, Loss: 1.0402, Accuracy: 0.4897\n",
      "Epoch 2/10, Loss: 0.8030, Accuracy: 0.6414\n",
      "Epoch 3/10, Loss: 0.6345, Accuracy: 0.7413\n",
      "Epoch 4/10, Loss: 0.4696, Accuracy: 0.8088\n",
      "Epoch 5/10, Loss: 0.3519, Accuracy: 0.8630\n",
      "Epoch 6/10, Loss: 0.2522, Accuracy: 0.9066\n",
      "Epoch 7/10, Loss: 0.1788, Accuracy: 0.9332\n",
      "Epoch 8/10, Loss: 0.1273, Accuracy: 0.9560\n",
      "Epoch 9/10, Loss: 0.0972, Accuracy: 0.9663\n",
      "Epoch 10/10, Loss: 0.0800, Accuracy: 0.9709\n"
     ]
    }
   ],
   "source": [
    "# Training loop\n",
    "num_epochs = 10\n",
    "for epoch in range(num_epochs):\n",
    "    model.train()\n",
    "    total_loss = 0\n",
    "    correct_predictions = 0\n",
    "    total_samples = 0\n",
    "    \n",
    "    for batch in train_loader:\n",
    "        input_ids = batch['input_ids'].to(device)\n",
    "        labels = batch['labels'].to(device)\n",
    "        \n",
    "        optimizer.zero_grad()\n",
    "        outputs = model(input_ids)\n",
    "        loss = criterion(outputs, labels)\n",
    "        loss.backward()\n",
    "        optimizer.step()\n",
    "        \n",
    "        total_loss += loss.item()\n",
    "        _, predicted = torch.max(outputs, 1)\n",
    "        correct_predictions += (predicted == labels).sum().item()\n",
    "        total_samples += labels.size(0)\n",
    "    \n",
    "    epoch_loss = total_loss / len(train_loader)\n",
    "    epoch_accuracy = correct_predictions / total_samples\n",
    "    \n",
    "    print(f'Epoch {epoch + 1}/{num_epochs}, Loss: {epoch_loss:.4f}, Accuracy: {epoch_accuracy:.4f}')\n"
   ]
  },
  {
   "cell_type": "code",
   "execution_count": 43,
   "id": "5938e013",
   "metadata": {},
   "outputs": [
    {
     "name": "stdout",
     "output_type": "stream",
     "text": [
      "Test Accuracy: 0.7868\n"
     ]
    }
   ],
   "source": [
    "\n",
    "# Evaluation\n",
    "model.eval()\n",
    "total_correct = 0\n",
    "total_samples = 0\n",
    "with torch.no_grad():\n",
    "    for batch in test_loader:\n",
    "        input_ids = batch['input_ids'].to(device)\n",
    "        labels = batch['labels'].to(device)\n",
    "        outputs = model(input_ids)\n",
    "        _, predicted = torch.max(outputs, 1)\n",
    "        total_correct += (predicted == labels).sum().item()\n",
    "        total_samples += labels.size(0)\n",
    "\n",
    "test_accuracy = total_correct / total_samples\n",
    "print(f'Test Accuracy: {test_accuracy:.4f}')"
   ]
  },
  {
   "cell_type": "code",
   "execution_count": 49,
   "id": "772a7750",
   "metadata": {},
   "outputs": [
    {
     "data": {
      "image/png": "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",
      "text/plain": [
       "<Figure size 1000x500 with 1 Axes>"
      ]
     },
     "metadata": {},
     "output_type": "display_data"
    },
    {
     "data": {
      "image/png": "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",
      "text/plain": [
       "<Figure size 1000x500 with 1 Axes>"
      ]
     },
     "metadata": {},
     "output_type": "display_data"
    }
   ],
   "source": [
    "import matplotlib.pyplot as plt\n",
    "\n",
    "# Define the values\n",
    "epochs = range(1, 11)  # Assuming 10 epochs\n",
    "loss_values = [1.0402, 0.8030, 0.6345, 0.4696, 0.3519, 0.2522, 0.1788, 0.1273, 0.0972, 0.0800]\n",
    "accuracy_values = [0.4897, 0.6414, 0.7413, 0.8088, 0.8630, 0.9066, 0.9332, 0.9560, 0.9663, 0.9709]\n",
    "\n",
    "# Plot the loss\n",
    "plt.figure(figsize=(10, 5))\n",
    "plt.plot(epochs, loss_values, marker='o', color='b', label='Loss')\n",
    "plt.title('Training Loss')\n",
    "plt.xlabel('Epoch')\n",
    "plt.ylabel('Loss')\n",
    "plt.xticks(epochs)\n",
    "plt.legend()\n",
    "plt.grid(True)\n",
    "plt.show()\n",
    "\n",
    "# Plot the accuracy\n",
    "plt.figure(figsize=(10, 5))\n",
    "plt.plot(epochs, accuracy_values, marker='o', color='r', label='Accuracy')\n",
    "plt.title('Training Accuracy')\n",
    "plt.xlabel('Epoch')\n",
    "plt.ylabel('Accuracy')\n",
    "plt.xticks(epochs)\n",
    "plt.legend()\n",
    "plt.grid(True)\n",
    "plt.show()\n"
   ]
  },
  {
   "cell_type": "code",
   "execution_count": 52,
   "id": "d92a80e9",
   "metadata": {},
   "outputs": [],
   "source": [
    "import torch\n",
    "\n",
    "# Prepare the single sample (replace this with your actual sample)\n",
    "sample = \"he laid a gnarled claw on my shoulder and it seemed to me that its shaking \"\n",
    "encoded_text = tokenizer(sample, padding='max_length', truncation=True, max_length=128, return_tensors='pt')\n",
    "input_ids = encoded_text['input_ids']\n",
    "\n",
    "\n"
   ]
  },
  {
   "cell_type": "code",
   "execution_count": 53,
   "id": "24c9ec4c",
   "metadata": {},
   "outputs": [
    {
     "name": "stdout",
     "output_type": "stream",
     "text": [
      "[0 2 2 ... 0 2 0]\n"
     ]
    }
   ],
   "source": [
    "from sklearn.preprocessing import LabelEncoder\n",
    "\n",
    "# Define label encoder\n",
    "label_encoder = LabelEncoder()\n",
    "label_encoder.fit(df['author'].tolist())  
    "\n",
    "# Convert train labels to numerical format\n",
    "train_labels_encoded = label_encoder.transform(train_labels)\n",
    "print(train_labels_encoded)\n"
   ]
  },
  {
   "cell_type": "code",
   "execution_count": 54,
   "id": "8d7d6d83",
   "metadata": {},
   "outputs": [
    {
     "name": "stdout",
     "output_type": "stream",
     "text": [
      "Predicted class: HPL\n"
     ]
    }
   ],
   "source": [
    "# Move input to device (CPU or GPU)\n",
    "input_ids = input_ids.to(device)\n",
    "\n",
    "# Pass input through the model\n",
    "model.eval()  # Set model to evaluation mode\n",
    "with torch.no_grad():\n",
    "    logits = model(input_ids)\n",
    "\n",
    "# Convert logits to probabilities using softmax\n",
    "probs = F.softmax(logits, dim=1)\n",
    "\n",
    "# Get predicted class label\n",
    "predicted_class = torch.argmax(probs, dim=1).item()\n",
    "\n",
    "# Decode predicted class label using label encoder\n",
    "predicted_label = label_encoder.inverse_transform([predicted_class])[0]\n",
    "\n",
    "print(\"Predicted class:\", predicted_label)"
   ]
  }
 ],
 "metadata": {
  "kernelspec": {
   "display_name": "Python 3 (ipykernel)",
   "language": "python",
   "name": "python3"
  },
  "language_info": {
   "codemirror_mode": {
    "name": "ipython",
    "version": 3
   },
   "file_extension": ".py",
   "mimetype": "text/x-python",
   "name": "python",
   "nbconvert_exporter": "python",
   "pygments_lexer": "ipython3",
   "version": "3.11.5"
  }
 },
 "nbformat": 4,
 "nbformat_minor": 5
}
